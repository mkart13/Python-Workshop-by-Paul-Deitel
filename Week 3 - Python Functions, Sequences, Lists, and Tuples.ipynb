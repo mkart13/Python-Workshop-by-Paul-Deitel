{
 "cells": [
  {
   "cell_type": "markdown",
   "metadata": {},
   "source": [
    "# Python Functions, Sequences, Lists, and Tuples\n",
    "<br><b>Name:</b> Karthik Maddipoti\n",
    "<br><b>Course:</b> UCLA Python Workshop 2021\n",
    "<br><b>Instructor:</b> Paul Deitel"
   ]
  },
  {
   "cell_type": "markdown",
   "metadata": {},
   "source": [
    "____________"
   ]
  },
  {
   "cell_type": "code",
   "execution_count": 1,
   "metadata": {},
   "outputs": [],
   "source": [
    "# Loading Required Packages\n",
    "import numpy as np\n",
    "import random"
   ]
  },
  {
   "cell_type": "markdown",
   "metadata": {},
   "source": [
    "### Temperature Conversion \n",
    "\n",
    "Implement a ```fahrenheit``` function that returns the Fahrenheit equivalent of a Celsius temperature. Use the following formula:\n",
    "\n",
    "***F = (9 / 5) * C + 32***\n",
    "\n",
    "<p>Use this function to print a chart showing the Fahrenheit equivalents of all Celsius temperatures in the range 0–100 degrees. Use one digit of precision for the results. Print the outputs in a neat tabular format.</p>"
   ]
  },
  {
   "cell_type": "code",
   "execution_count": 2,
   "metadata": {},
   "outputs": [],
   "source": [
    "# Defining a function to convert Celsius temperature to Fahrenheit temperature\n",
    "def fahrenheit(arg_temperature_in_celsius):\n",
    "    '''Convert the temperature input in celsius to fahrenheit equivalent.'''\n",
    "    \n",
    "    # Formula to convert temperature in celsius to fahrenheit temperature\n",
    "    fahrenheit_temperature = ((9 / 5) * arg_temperature_in_celsius) + 32\n",
    "    \n",
    "    return fahrenheit_temperature"
   ]
  },
  {
   "cell_type": "code",
   "execution_count": 3,
   "metadata": {},
   "outputs": [
    {
     "name": "stdout",
     "output_type": "stream",
     "text": [
      "Celsius (℃) Fahrenheit (°F)\n",
      "          0            32.0\n",
      "          1            33.8\n",
      "          2            35.6\n",
      "          3            37.4\n",
      "          4            39.2\n",
      "          5            41.0\n",
      "          6            42.8\n",
      "          7            44.6\n",
      "          8            46.4\n",
      "          9            48.2\n",
      "         10            50.0\n",
      "         11            51.8\n",
      "         12            53.6\n",
      "         13            55.4\n",
      "         14            57.2\n",
      "         15            59.0\n",
      "         16            60.8\n",
      "         17            62.6\n",
      "         18            64.4\n",
      "         19            66.2\n",
      "         20            68.0\n",
      "         21            69.8\n",
      "         22            71.6\n",
      "         23            73.4\n",
      "         24            75.2\n",
      "         25            77.0\n",
      "         26            78.8\n",
      "         27            80.6\n",
      "         28            82.4\n",
      "         29            84.2\n",
      "         30            86.0\n",
      "         31            87.8\n",
      "         32            89.6\n",
      "         33            91.4\n",
      "         34            93.2\n",
      "         35            95.0\n",
      "         36            96.8\n",
      "         37            98.6\n",
      "         38           100.4\n",
      "         39           102.2\n",
      "         40           104.0\n",
      "         41           105.8\n",
      "         42           107.6\n",
      "         43           109.4\n",
      "         44           111.2\n",
      "         45           113.0\n",
      "         46           114.8\n",
      "         47           116.6\n",
      "         48           118.4\n",
      "         49           120.2\n",
      "         50           122.0\n",
      "         51           123.8\n",
      "         52           125.6\n",
      "         53           127.4\n",
      "         54           129.2\n",
      "         55           131.0\n",
      "         56           132.8\n",
      "         57           134.6\n",
      "         58           136.4\n",
      "         59           138.2\n",
      "         60           140.0\n",
      "         61           141.8\n",
      "         62           143.6\n",
      "         63           145.4\n",
      "         64           147.2\n",
      "         65           149.0\n",
      "         66           150.8\n",
      "         67           152.6\n",
      "         68           154.4\n",
      "         69           156.2\n",
      "         70           158.0\n",
      "         71           159.8\n",
      "         72           161.6\n",
      "         73           163.4\n",
      "         74           165.2\n",
      "         75           167.0\n",
      "         76           168.8\n",
      "         77           170.6\n",
      "         78           172.4\n",
      "         79           174.2\n",
      "         80           176.0\n",
      "         81           177.8\n",
      "         82           179.6\n",
      "         83           181.4\n",
      "         84           183.2\n",
      "         85           185.0\n",
      "         86           186.8\n",
      "         87           188.6\n",
      "         88           190.4\n",
      "         89           192.2\n",
      "         90           194.0\n",
      "         91           195.8\n",
      "         92           197.6\n",
      "         93           199.4\n",
      "         94           201.2\n",
      "         95           203.0\n",
      "         96           204.8\n",
      "         97           206.6\n",
      "         98           208.4\n",
      "         99           210.2\n",
      "        100           212.0\n"
     ]
    }
   ],
   "source": [
    "# Printing the celsius to fahrenheit temperature conversion table\n",
    "print(f'Celsius (℃) Fahrenheit (°F)')\n",
    "for temperature_in_celsius in range(0,101):\n",
    "    print(f'{temperature_in_celsius:>11}{fahrenheit(temperature_in_celsius):16.1f}')"
   ]
  },
  {
   "cell_type": "markdown",
   "metadata": {},
   "source": [
    "____________"
   ]
  },
  {
   "cell_type": "markdown",
   "metadata": {},
   "source": [
    "### 4.3 What’s Wrong with This Code?\n",
    "What is wrong with the following cube function’s definition?\n",
    "```def cube(x):```\n",
    "<br>    ```\"\"\"Calculate the cube of x.\"\"\"```\n",
    "<br>  ```x ** 3```\n",
    "<br>```print('The cube of 2 is', cube(2))```"
   ]
  },
  {
   "cell_type": "markdown",
   "metadata": {},
   "source": [
    "**Solution:**\n",
    "\n",
    "The above code snippet has the following error:\n",
    "1. It is attempting to calculate the cube of user input x. The issue with this code block is that the function does not return the cube of x"
   ]
  },
  {
   "cell_type": "code",
   "execution_count": 4,
   "metadata": {},
   "outputs": [
    {
     "name": "stdout",
     "output_type": "stream",
     "text": [
      "The cube of 2 is 8\n"
     ]
    }
   ],
   "source": [
    "# Correcting the error in the 'cube' user-defined function\n",
    "def cube(x):\n",
    "    '''Calculate the cube of x.'''\n",
    "    return x ** 3\n",
    "print('The cube of 2 is', cube(2))"
   ]
  },
  {
   "cell_type": "markdown",
   "metadata": {},
   "source": [
    "_______"
   ]
  },
  {
   "cell_type": "markdown",
   "metadata": {},
   "source": [
    "### 4.14 Computer-Assisted Instruction\n",
    "Computer-assisted instruction (CAI) refers to the use of computers in education. Write a script to help an elementary school student learn multiplication. Create a function that randomly generates and returns a tuple of two positive one digit integers. Use that function’s result in your script to prompt the user with a question, such as\n",
    "\n",
    "***How much is 6 times 7?***\n",
    "\n",
    "For a correct answer, display the message \"**Very good!**\" and ask another multiplication question. For an incorrect answer, display the message \"**No. Please try again.**\" and let the student try the same question repeatedly until the student finally gets it right."
   ]
  },
  {
   "cell_type": "code",
   "execution_count": 5,
   "metadata": {},
   "outputs": [],
   "source": [
    "# Defining a Computer-Assisted Instruction multiplication function\n",
    "def generate_two_random_integers():\n",
    "    '''A function that randomly generates and returns a tuple of two positive one digit integers.'''\n",
    "    \n",
    "    # Initializing and returning a tuple with random positive single digit integers\n",
    "    integer_tuple = (random.randrange(1, 10), random.randrange(1, 10))\n",
    "    return integer_tuple\n",
    "\n",
    "\n",
    "\n",
    "# Defining a function to check if the user's answer is correct or not\n",
    "def check_answer(arg_multiply_integer_tuple, arg_user_answer):\n",
    "    '''A function to check if the user's answer is correct or not. The function returns True if the answer is correct,\n",
    "    else it returns False'''\n",
    "    \n",
    "    # Checking whether the user got the correct answer or not\n",
    "    if (arg_multiply_integer_tuple[0] * arg_multiply_integer_tuple[1] == arg_user_answer):\n",
    "        is_correct = True\n",
    "    else:\n",
    "        is_correct = False\n",
    "    \n",
    "    return is_correct"
   ]
  },
  {
   "cell_type": "code",
   "execution_count": 7,
   "metadata": {},
   "outputs": [
    {
     "name": "stdout",
     "output_type": "stream",
     "text": [
      "How much is 4 times 3?\n",
      "Enter answer here: 4\n",
      "\n",
      "No. Please try again.\n",
      "How much is 4 times 3?\n",
      "Enter answer here: 7\n",
      "\n",
      "No. Please try again.\n",
      "How much is 4 times 3?\n",
      "Enter answer here: 12\n",
      "\n",
      "Very good!\n"
     ]
    }
   ],
   "source": [
    "# Generating a tuple of two positive one digit integers\n",
    "multiply_integer_tuple = generate_two_random_integers()\n",
    "\n",
    "# Setting a variable to break out of while loop.\n",
    "# 'run_loop' variable is set equal to True until the user gets the correct answer to the multiplication problem\n",
    "run_loop = True\n",
    "\n",
    "# Running the while loop till the user gets the correct answer\n",
    "while run_loop == True:\n",
    "    print(f'How much is {multiply_integer_tuple[0]} times {multiply_integer_tuple[1]}?')\n",
    "    \n",
    "    # Accepting the user's answer as an integer input\n",
    "    answer = int(input(\"Enter answer here: \"))\n",
    "    \n",
    "    # Checking whether the user got the correct answer or not\n",
    "    if (check_answer(multiply_integer_tuple, answer) == True):\n",
    "        print('\\nVery good!')\n",
    "        run_loop = False\n",
    "    else:\n",
    "        print('\\nNo. Please try again.')"
   ]
  },
  {
   "cell_type": "markdown",
   "metadata": {},
   "source": [
    "____"
   ]
  },
  {
   "cell_type": "markdown",
   "metadata": {},
   "source": [
    "### 5.6 Functions Returning Tuples\n",
    "Define a function ```rotate``` that receives three arguments and returns a tuple in which the first argument is at index 1, the second argument is at index 2 and the third argument is at index 0. Define variables a, b and c containing 'Doug', 22 and 1984. Then call the function three times. For each call, unpack its result into a, b and c, then display their values."
   ]
  },
  {
   "cell_type": "code",
   "execution_count": 8,
   "metadata": {},
   "outputs": [],
   "source": [
    "def rotate(arg_1, arg_2, arg_3):\n",
    "    '''Function to accept three inputs and rotate them as follows\n",
    "        1st input is positioned at Index 1,\n",
    "        2nd input is postioned at Index 2, and\n",
    "        3rd input is positioned at Index 0'''\n",
    "    \n",
    "    # Rotating arguments\n",
    "    final_tuple = (arg_3, arg_1, arg_2)\n",
    "    return final_tuple"
   ]
  },
  {
   "cell_type": "code",
   "execution_count": 9,
   "metadata": {},
   "outputs": [
    {
     "name": "stdout",
     "output_type": "stream",
     "text": [
      "1984, Doug, 22\n",
      "22, 1984, Doug\n",
      "Doug, 22, 1984\n"
     ]
    }
   ],
   "source": [
    "# Defining variables a, b, and c\n",
    "a = 'Doug'\n",
    "b = 22\n",
    "c = 1984\n",
    "\n",
    "# Rotate the variables for the first time and unpack them\n",
    "a, b, c = rotate(a, b, c)\n",
    "print(f'{a}, {b}, {c}')\n",
    "\n",
    "# Rotate the variables for the second time and unpack them\n",
    "a, b, c = rotate(a, b, c)\n",
    "print(f'{a}, {b}, {c}')\n",
    "\n",
    "# Rotate the variables for the third time and unpack them\n",
    "a, b, c = rotate(a, b, c)\n",
    "print(f'{a}, {b}, {c}')"
   ]
  },
  {
   "cell_type": "markdown",
   "metadata": {},
   "source": [
    "_____"
   ]
  },
  {
   "cell_type": "markdown",
   "metadata": {},
   "source": [
    "### 5.7 Data Science: Duplicate Elimination\n",
    "Create a function that receives a list and returns a (possibly shorter) list containing only the unique values in sorted order. Test your function with a list of numbers and a list of strings."
   ]
  },
  {
   "cell_type": "code",
   "execution_count": 10,
   "metadata": {},
   "outputs": [],
   "source": [
    "# Defining a function to remove duplicate values in a list\n",
    "def remove_duplicates(arg_list):\n",
    "    '''Function to remove duplicates from a list and return a unique list.'''\n",
    "    \n",
    "    # Creating a new list without duplicated values present in the initial list\n",
    "    new_list = []\n",
    "    [new_list.append(x) for x in arg_list if x not in new_list]\n",
    "    \n",
    "    return new_list"
   ]
  },
  {
   "cell_type": "code",
   "execution_count": 11,
   "metadata": {},
   "outputs": [
    {
     "name": "stdout",
     "output_type": "stream",
     "text": [
      " Intitial list values are: ['karthik', 'Karthik', 'Ram', 'John', 'Karthik', 'Paul', 'P', 'Paul', 'john']\n",
      " Deduplicated list values are: ['karthik', 'Karthik', 'Ram', 'John', 'Paul', 'P', 'john']\n"
     ]
    }
   ],
   "source": [
    "# Initial list of strings with duplicate values\n",
    "test_list = ['karthik', 'Karthik', 'Ram', 'John', 'Karthik', 'Paul', 'P', 'Paul', 'john']\n",
    "print(f' Intitial list values are: {test_list}')\n",
    "\n",
    "# Final list of strings without duplicate values\n",
    "final_list = remove_duplicates(test_list)\n",
    "print(f' Deduplicated list values are: {final_list}')"
   ]
  },
  {
   "cell_type": "code",
   "execution_count": 12,
   "metadata": {},
   "outputs": [
    {
     "name": "stdout",
     "output_type": "stream",
     "text": [
      " Intitial list values are: [1, 2, 5, 1, 6, 7, 5, 5, -1, 0, -1]\n",
      " Deduplicated list values are: [1, 2, 5, 6, 7, -1, 0]\n"
     ]
    }
   ],
   "source": [
    "# Initial list of integers with duplicate values\n",
    "test_list = [1, 2, 5, 1, 6, 7, 5, 5, -1, 0, -1]\n",
    "print(f' Intitial list values are: {test_list}')\n",
    "\n",
    "# Final list of integers without duplicate values\n",
    "final_list = remove_duplicates(test_list)\n",
    "print(f' Deduplicated list values are: {final_list}')"
   ]
  },
  {
   "cell_type": "markdown",
   "metadata": {},
   "source": [
    "<b>Note:</b> The funtion ```remove_duplicates``` successfully removes duplicate strings and/or numbers from a list and returns a list of unique values only. It does not consider two strings with case mismatch as the same string (***e.g. \"Karthik\" is not same as \"karthik\"***)"
   ]
  },
  {
   "cell_type": "markdown",
   "metadata": {},
   "source": [
    "_____"
   ]
  },
  {
   "cell_type": "markdown",
   "metadata": {},
   "source": [
    "### 5.14 Is a Sequence Sorted?\n",
    "Create a function ```is_ordered``` that receives a sequence and returns True if the elements are in sorted order. Test your function with sorted and unsorted lists, tuples and strings.\n",
    "\n",
    "***Additional Instructions***: A more efficient way to approach this exercise is to make one pass of the sequence. First, compare element 0 with element 1 to determine whether they’re in ascending order. If so, compare element 1 and element 2 to determine whether they’re in ascending order. Continue these comparisons with elements 2 and 3, 3 and 4, etc. until you encounter adjacent elements that are not in ascending order—in which case, the sequence is not sorted—or until you reach the end of the sequence—in which case, it is sorted. **To handle the possibility of duplicates, use <= in each comparison rather than <.**"
   ]
  },
  {
   "cell_type": "code",
   "execution_count": 13,
   "metadata": {},
   "outputs": [],
   "source": [
    "# Function to identify whether the sequence is sorted in ascending order or not\n",
    "def is_ordered(arg_list):\n",
    "    '''Function returns \"True\" if the sequence is ordered in ascending order, else it returns \"False\".'''\n",
    "    \n",
    "    # Initializing \"ordered_status\" variable to keep track of whether the sequence is ordered or not\n",
    "    ordered_status = True\n",
    "    \n",
    "    # Looping through the list to identify instances when the sequence is not ordered in ascending order\n",
    "    for start_index in range(len(arg_list)):\n",
    "        for i in range(start_index, len(arg_list),1):\n",
    "            if (arg_list[start_index] > arg_list[i]):\n",
    "                ordered_status = False\n",
    "            else:\n",
    "                continue\n",
    "    \n",
    "    return ordered_status"
   ]
  },
  {
   "cell_type": "code",
   "execution_count": 14,
   "metadata": {},
   "outputs": [
    {
     "name": "stdout",
     "output_type": "stream",
     "text": [
      "Is the sequence ordered? True\n"
     ]
    }
   ],
   "source": [
    "# Testing the \"is_ordered\" function with example sequence\n",
    "# Example of ordered sequence\n",
    "ordered_list_example = [-10, -5, 0, 2, 2, 6, 9, 9, 12, 15, 15]\n",
    "print(f'Is the sequence ordered? {is_ordered(ordered_list_example)}')"
   ]
  },
  {
   "cell_type": "code",
   "execution_count": 15,
   "metadata": {},
   "outputs": [
    {
     "name": "stdout",
     "output_type": "stream",
     "text": [
      "Is the sequence ordered? False\n"
     ]
    }
   ],
   "source": [
    "# Testing the \"is_ordered\" function with example sequence\n",
    "# Example of unordered sequence\n",
    "unordered_list_example = [-10, -5, 0, 2, 6, 2, 9, 9, 12, 15, 15]\n",
    "print(f'Is the sequence ordered? {is_ordered(unordered_list_example)}')"
   ]
  },
  {
   "cell_type": "markdown",
   "metadata": {},
   "source": [
    "_____"
   ]
  },
  {
   "cell_type": "markdown",
   "metadata": {},
   "source": [
    "### 5.27 Data Science: Duplicate Elimination and Counting Frequencies\n",
    "Use a list comprehension to create a list of 50 random values in the range 1 through 10. Use NumPy’s ```unique``` function to obtain the unique values and their frequencies. Display the results."
   ]
  },
  {
   "cell_type": "code",
   "execution_count": 16,
   "metadata": {},
   "outputs": [
    {
     "name": "stdout",
     "output_type": "stream",
     "text": [
      "Value   Frequency\n",
      "    1           6\n",
      "    2           4\n",
      "    3           2\n",
      "    4           8\n",
      "    5           6\n",
      "    6           2\n",
      "    7           3\n",
      "    8           6\n",
      "    9           8\n",
      "   10           5\n"
     ]
    }
   ],
   "source": [
    "# Generating random integers in the range 1 through 10\n",
    "random_values = [random.randrange(1, 11) for i in range(50)]\n",
    "\n",
    "# Calculating the frequencies of each integer\n",
    "values, frequencies = np.unique(random_values, return_counts=True)\n",
    "\n",
    "# Printing the frequency of each integer\n",
    "print(f'Value   Frequency')\n",
    "for i in range(len(values)):\n",
    "    print(f'{values[i]:>5} {frequencies[i]:>11}')"
   ]
  },
  {
   "cell_type": "markdown",
   "metadata": {},
   "source": [
    "_____"
   ]
  }
 ],
 "metadata": {
  "kernelspec": {
   "display_name": "Python 3",
   "language": "python",
   "name": "python3"
  },
  "language_info": {
   "codemirror_mode": {
    "name": "ipython",
    "version": 3
   },
   "file_extension": ".py",
   "mimetype": "text/x-python",
   "name": "python",
   "nbconvert_exporter": "python",
   "pygments_lexer": "ipython3",
   "version": "3.8.8"
  }
 },
 "nbformat": 4,
 "nbformat_minor": 4
}
