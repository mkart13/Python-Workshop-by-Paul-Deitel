{
 "cells": [
  {
   "cell_type": "markdown",
   "metadata": {},
   "source": [
    "# Week 4 Assignment\n",
    "<br><b>Student Name:</b> Karthik Maddipoti\n",
    "<br><b>Student ID:</b> 005864907\n",
    "<br><b>Course:</b> UCLA MSBA Python Workshop 2021\n",
    "<br><b>Instructor:</b> Paul Deitel"
   ]
  },
  {
   "cell_type": "markdown",
   "metadata": {},
   "source": [
    "## Self Assessment\n",
    "* I have completed all the exercises for week 4. I was able to complete them without any issues\n",
    "* I have incorporated the feedback I received in my previous assignments in this week's submission"
   ]
  },
  {
   "cell_type": "markdown",
   "metadata": {},
   "source": [
    "____________"
   ]
  },
  {
   "cell_type": "code",
   "execution_count": 1,
   "metadata": {},
   "outputs": [],
   "source": [
    "# Loading Required Packages\n",
    "import numpy as np"
   ]
  },
  {
   "cell_type": "markdown",
   "metadata": {},
   "source": [
    "## Chapter 6"
   ]
  },
  {
   "cell_type": "markdown",
   "metadata": {},
   "source": [
    "### 6.3 What Does This Code Do? \n",
    "The dictionary ```temperatures``` contains three Fahrenheit temperature samples for each of four days. What does the for statement do?\n",
    "\n",
    "```python\n",
    "temperatures = {\n",
    "    'Monday': [66, 70, 74],\n",
    "    'Tuesday': [50, 56, 64],\n",
    "    'Wednesday': [75, 80, 83],\n",
    "    'Thursday': [67, 74, 81]\n",
    "}\n",
    "\n",
    "for k, v in temperatures.items():\n",
    "    print(f'{k}: {sum(v)/len(v):.2f}')\n",
    "```"
   ]
  },
  {
   "cell_type": "markdown",
   "metadata": {},
   "source": [
    "**Answer**: The for statement code block extracts the key-value pairs from the dictionary and iterates through each key (i.e. days of the week) and prints the average temperature for that \"day\" key with two decimal points precision"
   ]
  },
  {
   "cell_type": "code",
   "execution_count": 2,
   "metadata": {},
   "outputs": [
    {
     "name": "stdout",
     "output_type": "stream",
     "text": [
      "Monday: 70.00\n",
      "Tuesday: 56.67\n",
      "Wednesday: 79.33\n",
      "Thursday: 74.00\n"
     ]
    }
   ],
   "source": [
    "# Initializing the dictionary - \"temperatures\"\n",
    "temperatures = {\n",
    "    'Monday': [66, 70, 74],\n",
    "    'Tuesday': [50, 56, 64],\n",
    "    'Wednesday': [75, 80, 83],\n",
    "    'Thursday': [67, 74, 81]\n",
    "}\n",
    "\n",
    "# Printing the average temperature on each day present in the dictionary\n",
    "for k, v in temperatures.items():\n",
    "    print(f'{k}: {sum(v)/len(v):.2f}')"
   ]
  },
  {
   "cell_type": "markdown",
   "metadata": {},
   "source": [
    "____"
   ]
  },
  {
   "cell_type": "markdown",
   "metadata": {},
   "source": [
    "### 6.6 Duplicate Word Removal\n",
    "Write a function that receives a list of words, then determines and displays in alphabetical order only the unique words. Treat uppercase and lowercase letters the same. The function should use a set to get the unique words in the list. Test your function with several sentences."
   ]
  },
  {
   "cell_type": "code",
   "execution_count": 3,
   "metadata": {},
   "outputs": [],
   "source": [
    "# Function to create a unique list of alphabetically ordered words\n",
    "def get_unique_sorted_list(arg_list):\n",
    "    \"\"\"This function accepts a list of words and then deduplicates it and returns \n",
    "    the alphabetically sorted list of words in lower case. \n",
    "    \n",
    "    Note: The function treats uppercase and lowercase letters the same.\n",
    "    \"\"\"\n",
    "    \n",
    "    \n",
    "    # Converting all words in the list to lower case\n",
    "    arg_list = [x.lower() for x in arg_list]\n",
    "    \n",
    "    # Creating a set out of the list of words to retain unique words and then converting it back to a list\n",
    "    # becuase \"Sets\" are an unordered collection of unique values and hence cannot be sorted\n",
    "    unique_set = set(arg_list)\n",
    "    unique_list = list(unique_set)\n",
    "    \n",
    "    # Deleting the variable: 'unique_set' to save memory\n",
    "    del unique_set\n",
    "    \n",
    "    # Sorting the words in the list in alphabetical order\n",
    "    unique_list = sorted(unique_list)\n",
    "    \n",
    "    return unique_list"
   ]
  },
  {
   "cell_type": "code",
   "execution_count": 4,
   "metadata": {},
   "outputs": [
    {
     "name": "stdout",
     "output_type": "stream",
     "text": [
      "The input list of words are:\n",
      "['Karthik', 'karthik', 'apple', 'aPPle', 'Food', 'train']\n",
      "\n",
      "Answer: The unique-alphabetically sorted list of words are:\n",
      "['apple', 'food', 'karthik', 'train']\n"
     ]
    }
   ],
   "source": [
    "# Example 1\n",
    "# Testing the function with a list of words\n",
    "test_list_1 = ['Karthik', 'karthik', 'apple', 'aPPle', 'Food', 'train']\n",
    "\n",
    "# Printing the input and output list of words after using function \"get_unique_sorted_list()\"\n",
    "print(f'The input list of words are:')\n",
    "print(f'{test_list_1}')\n",
    "final_list_1 = get_unique_sorted_list(test_list_1)\n",
    "print(f'\\nAnswer: The unique-alphabetically sorted list of words are:')\n",
    "print(f'{final_list_1}')"
   ]
  },
  {
   "cell_type": "code",
   "execution_count": 5,
   "metadata": {},
   "outputs": [
    {
     "name": "stdout",
     "output_type": "stream",
     "text": [
      "The input list of words are:\n",
      "['Science', 'Science', 'geoGraphy', 'MatH', 'history', 'PHYSICS', 'math', 'geography']\n",
      "\n",
      "Answer: The unique-alphabetically sorted list of words are:\n",
      "['geography', 'history', 'math', 'physics', 'science']\n"
     ]
    }
   ],
   "source": [
    "# Example 2\n",
    "# Testing the function with a list of words\n",
    "test_list_2 = ['Science', 'Science', 'geoGraphy', 'MatH', 'history', 'PHYSICS', 'math', 'geography']\n",
    "\n",
    "# Printing the input and output list of words after using function \"get_unique_sorted_list()\"\n",
    "print(f'The input list of words are:')\n",
    "print(f'{test_list_2}')\n",
    "final_list_2 = get_unique_sorted_list(test_list_2)\n",
    "print(f'\\nAnswer: The unique-alphabetically sorted list of words are:')\n",
    "print(f'{final_list_2}')"
   ]
  },
  {
   "cell_type": "markdown",
   "metadata": {},
   "source": [
    "____"
   ]
  },
  {
   "cell_type": "markdown",
   "metadata": {},
   "source": [
    "### 6.9 Dictionary Manipulations\n",
    "Using the following dictionary, which maps country names to Internet top-level domains (TLDs):\n",
    "```python\n",
    "tlds = {'Canada': 'ca', 'United States': 'us', 'Mexico': 'mx'}\n",
    "\n",
    "```\n",
    "perform the following tasks and display the results:\n",
    "<ol type=\"a\">\n",
    "    <li>Check whether the dictionary contains the key 'Canada'.</li>\n",
    "    <li>Check whether the dictionary contains the key 'France'.</li>\n",
    "    <li>Iterate through the key–value pairs and display them in two-column format.</li>\n",
    "    <li>Add the key–value pair '<b>Sweden</b>' and '<b>sw</b>' (which is incorrect).</li>\n",
    "    <li>Update the value for the key '<b>Sweden</b>' to '<b>se</b>'.</li>\n",
    "    <li>Use a dictionary comprehension to reverse the keys and values.</li>\n",
    "    <li>With the result of part (6), use a dictionary comprehension to convert the country names to all uppercase letters.</li>\n",
    "</ol>"
   ]
  },
  {
   "cell_type": "code",
   "execution_count": 6,
   "metadata": {},
   "outputs": [],
   "source": [
    "# Initializing the dictionary: 'tlds'\n",
    "tlds = {'Canada': 'ca', 'United States': 'us', 'Mexico': 'mx'}"
   ]
  },
  {
   "cell_type": "code",
   "execution_count": 7,
   "metadata": {},
   "outputs": [
    {
     "name": "stdout",
     "output_type": "stream",
     "text": [
      " The value associated with the key 'Canada' is ca\n"
     ]
    }
   ],
   "source": [
    "# Solution for part 1)\n",
    "# Q. Check whether the dictionary contains the key 'Canada'\n",
    "print(f\" The value associated with the key 'Canada' is {tlds.get('Canada')}\")"
   ]
  },
  {
   "cell_type": "code",
   "execution_count": 8,
   "metadata": {},
   "outputs": [
    {
     "name": "stdout",
     "output_type": "stream",
     "text": [
      " The value associated with the key 'France' is None\n"
     ]
    }
   ],
   "source": [
    "# Solution for part 2)\n",
    "# Q. Check whether the dictionary contains the key 'France'\n",
    "print(f\" The value associated with the key 'France' is {tlds.get('France')}\")"
   ]
  },
  {
   "cell_type": "code",
   "execution_count": 9,
   "metadata": {},
   "outputs": [
    {
     "name": "stdout",
     "output_type": "stream",
     "text": [
      "        Country   Country Code\n",
      "         Canada             ca\n",
      "  United States             us\n",
      "         Mexico             mx\n"
     ]
    }
   ],
   "source": [
    "# Solution for part 3)\n",
    "# Q. Iterate through the key–value pairs and display them in two-column format\n",
    "print(f'        Country   Country Code')\n",
    "for country, country_code in tlds.items():\n",
    "    print(f'{country:>15}   {country_code:>12}')"
   ]
  },
  {
   "cell_type": "code",
   "execution_count": 10,
   "metadata": {},
   "outputs": [
    {
     "name": "stdout",
     "output_type": "stream",
     "text": [
      "{'Canada': 'ca', 'United States': 'us', 'Mexico': 'mx', 'Sweden': 'sw'}\n"
     ]
    }
   ],
   "source": [
    "# Solution for part 4)\n",
    "# Q. Add the key–value pair 'Sweden' and 'sw' (which is incorrect)\n",
    "tlds['Sweden'] = 'sw'\n",
    "print(tlds)"
   ]
  },
  {
   "cell_type": "code",
   "execution_count": 11,
   "metadata": {},
   "outputs": [
    {
     "name": "stdout",
     "output_type": "stream",
     "text": [
      "{'Canada': 'ca', 'United States': 'us', 'Mexico': 'mx', 'Sweden': 'se'}\n"
     ]
    }
   ],
   "source": [
    "# Solution for part 5)\n",
    "# Q. Update the value for the key 'Sweden' to 'se'\n",
    "tlds['Sweden'] = 'se'\n",
    "print(tlds)"
   ]
  },
  {
   "cell_type": "code",
   "execution_count": 12,
   "metadata": {},
   "outputs": [
    {
     "name": "stdout",
     "output_type": "stream",
     "text": [
      "{'ca': 'Canada', 'us': 'United States', 'mx': 'Mexico', 'se': 'Sweden'}\n"
     ]
    }
   ],
   "source": [
    "# Solution for part 6)\n",
    "# Q. Use a dictionary comprehension to reverse the keys and values\n",
    "tlds_reversed = {country_code: name for name, country_code in tlds.items()}\n",
    "print(tlds_reversed)"
   ]
  },
  {
   "cell_type": "code",
   "execution_count": 13,
   "metadata": {},
   "outputs": [
    {
     "name": "stdout",
     "output_type": "stream",
     "text": [
      "{'ca': 'CANADA', 'us': 'UNITED STATES', 'mx': 'MEXICO', 'se': 'SWEDEN'}\n"
     ]
    }
   ],
   "source": [
    "# Solution for part 7)\n",
    "# Q. With the result of part (6), use a dictionary comprehension to convert the country names to all uppercase letters\n",
    "tlds_reversed = {country_code: country.upper() for country_code, country in tlds_reversed.items()}\n",
    "print(tlds_reversed)"
   ]
  },
  {
   "cell_type": "markdown",
   "metadata": {},
   "source": [
    "____"
   ]
  },
  {
   "cell_type": "markdown",
   "metadata": {},
   "source": [
    "## Chapter 7"
   ]
  },
  {
   "cell_type": "markdown",
   "metadata": {},
   "source": [
    "### 7.2 Broadcasting\n",
    "Use **arange** to create a 2-by-2 **array** containing the numbers 0–3. Use broadcasting to perform each of the following operations on the original **array**:\n",
    "\n",
    "<ol type=\"a\">\n",
    "    <li>Cube every element of the <b>array</b>.</li>\n",
    "    <li>Add 7 to every element of the <b>array</b>.</li>\n",
    "    <li>Multiply every element of the array by 2.</li>\n",
    "</ol>"
   ]
  },
  {
   "cell_type": "code",
   "execution_count": 14,
   "metadata": {},
   "outputs": [
    {
     "name": "stdout",
     "output_type": "stream",
     "text": [
      "[[0 1]\n",
      " [2 3]]\n"
     ]
    }
   ],
   "source": [
    "# Creating a 2-by-2 array containing the numbers 0–3\n",
    "arr = np.arange(4).reshape(2, 2)\n",
    "print(f'{arr}')"
   ]
  },
  {
   "cell_type": "code",
   "execution_count": 15,
   "metadata": {},
   "outputs": [
    {
     "name": "stdout",
     "output_type": "stream",
     "text": [
      "[[ 0  1]\n",
      " [ 8 27]]\n"
     ]
    }
   ],
   "source": [
    "# Solution to part 1)\n",
    "# Q. Cube every element of the array\n",
    "print(f'{arr ** 3}')"
   ]
  },
  {
   "cell_type": "code",
   "execution_count": 16,
   "metadata": {},
   "outputs": [
    {
     "name": "stdout",
     "output_type": "stream",
     "text": [
      "[[ 7  8]\n",
      " [ 9 10]]\n"
     ]
    }
   ],
   "source": [
    "# Solution to part 2)\n",
    "# Q. Add 7 to every element of the array\n",
    "print(f'{np.add(arr, 7)}')"
   ]
  },
  {
   "cell_type": "code",
   "execution_count": 17,
   "metadata": {},
   "outputs": [
    {
     "name": "stdout",
     "output_type": "stream",
     "text": [
      "[[0 2]\n",
      " [4 6]]\n"
     ]
    }
   ],
   "source": [
    "# Solution to part 3)\n",
    "# Q. Multiply every element of the array by 2\n",
    "print(f'{np.multiply(arr, 2)}')"
   ]
  },
  {
   "cell_type": "markdown",
   "metadata": {},
   "source": [
    "____"
   ]
  },
  {
   "cell_type": "markdown",
   "metadata": {},
   "source": [
    "### 7.3 Element-Wise array Multiplication\n",
    "Create a 3-by-3 **array** containing the even integers from 2 through 18. Create a second 3-by-3 **array** containing the integers from 9 down to 1, then multiply the first **array** by the second."
   ]
  },
  {
   "cell_type": "code",
   "execution_count": 18,
   "metadata": {},
   "outputs": [
    {
     "name": "stdout",
     "output_type": "stream",
     "text": [
      "Array 1:\n",
      "[[ 2  4  6]\n",
      " [ 8 10 12]\n",
      " [14 16 18]]\n",
      "\n",
      "Array 2:\n",
      "[[9 8 7]\n",
      " [6 5 4]\n",
      " [3 2 1]]\n"
     ]
    }
   ],
   "source": [
    "# Creating a 3-by-3 array containing the even integers from 2 through 18\n",
    "arr_1 = np.arange(2, 20, 2).reshape(3, 3)\n",
    "print(f'Array 1:')\n",
    "print(f'{arr_1}')\n",
    "\n",
    "# Creating a 3-by-3 array containing the integers from 9 down to 1\n",
    "arr_2 = np.arange(9, 0, -1).reshape(3, 3)\n",
    "print(f'\\nArray 2:')\n",
    "print(f'{arr_2}')"
   ]
  },
  {
   "cell_type": "code",
   "execution_count": 19,
   "metadata": {},
   "outputs": [
    {
     "name": "stdout",
     "output_type": "stream",
     "text": [
      "Element-wise array multiplication of array 1 and array 2:\n",
      "[[18 32 42]\n",
      " [48 50 48]\n",
      " [42 32 18]]\n"
     ]
    }
   ],
   "source": [
    "# Element-wise array multiplication of array 1 and array 2\n",
    "print(f'Element-wise array multiplication of array 1 and array 2:')\n",
    "print(f'{arr_1 * arr_2}')"
   ]
  },
  {
   "cell_type": "markdown",
   "metadata": {},
   "source": [
    "___"
   ]
  },
  {
   "cell_type": "markdown",
   "metadata": {},
   "source": [
    "### 7.9 Indexing and Slicing arrays\n",
    "Create an **array** containing the values 1–15, **reshape** it into a 3-by-5 array, then use indexing and slicing techniques to perform each of the following operations:\n",
    "\n",
    "<ol type=\"a\">\n",
    "    <li>Select row 2.</li>\n",
    "    <li>Select column 5.</li>\n",
    "    <li>Select rows 0 and 1.</li>\n",
    "    <li>Select columns 2–4.</li>\n",
    "    <li>Select the element that is in row 1 and column 4.</li>\n",
    "    <li>Select all elements from rows 1 and 2 that are in columns 0, 2 and 4.</li>\n",
    "</ol>"
   ]
  },
  {
   "cell_type": "code",
   "execution_count": 20,
   "metadata": {},
   "outputs": [
    {
     "name": "stdout",
     "output_type": "stream",
     "text": [
      "[[ 1  2  3  4  5]\n",
      " [ 6  7  8  9 10]\n",
      " [11 12 13 14 15]]\n"
     ]
    }
   ],
   "source": [
    "# Creating an array containing the values 1–15, reshape it into a 3-by-5 array\n",
    "arr = np.arange(1,16,1).reshape(3, 5)\n",
    "print(f'{arr}')"
   ]
  },
  {
   "cell_type": "code",
   "execution_count": 21,
   "metadata": {},
   "outputs": [
    {
     "name": "stdout",
     "output_type": "stream",
     "text": [
      "[11 12 13 14 15]\n"
     ]
    }
   ],
   "source": [
    "# Solution to part 1)\n",
    "# Q. Select row index 2\n",
    "print(f'{arr[2]}')"
   ]
  },
  {
   "cell_type": "code",
   "execution_count": 22,
   "metadata": {},
   "outputs": [
    {
     "name": "stdout",
     "output_type": "stream",
     "text": [
      "[ 5 10 15]\n"
     ]
    }
   ],
   "source": [
    "# Solution to part 2)\n",
    "# Q. Select column index 4\n",
    "print(f'{arr[:,4]}')"
   ]
  },
  {
   "cell_type": "code",
   "execution_count": 23,
   "metadata": {},
   "outputs": [
    {
     "name": "stdout",
     "output_type": "stream",
     "text": [
      "[[ 1  2  3  4  5]\n",
      " [ 6  7  8  9 10]]\n"
     ]
    }
   ],
   "source": [
    "# Solution to part 3)\n",
    "# Q. Select row indexes 0 and 1\n",
    "print(f'{arr[:2,:]}')"
   ]
  },
  {
   "cell_type": "code",
   "execution_count": 24,
   "metadata": {},
   "outputs": [
    {
     "name": "stdout",
     "output_type": "stream",
     "text": [
      "[[ 3  4  5]\n",
      " [ 8  9 10]\n",
      " [13 14 15]]\n"
     ]
    }
   ],
   "source": [
    "# Solution to part 4)\n",
    "# Q. Select column indexes 2–4\n",
    "print(f'{arr[:,2:]}')"
   ]
  },
  {
   "cell_type": "code",
   "execution_count": 25,
   "metadata": {},
   "outputs": [
    {
     "name": "stdout",
     "output_type": "stream",
     "text": [
      "10\n"
     ]
    }
   ],
   "source": [
    "# Solution to part 5)\n",
    "# Q. Select the element that is in row index 1 and column index 4\n",
    "print(f'{arr[1,4]}')"
   ]
  },
  {
   "cell_type": "code",
   "execution_count": 26,
   "metadata": {},
   "outputs": [
    {
     "name": "stdout",
     "output_type": "stream",
     "text": [
      "[[ 6  8 10]\n",
      " [11 13 15]]\n"
     ]
    }
   ],
   "source": [
    "# Solution to part 6)\n",
    "# Q. Select all elements from rows 1 and 2 that are in columns 0, 2 and 4\n",
    "print(f'{arr[1:3,[0,2,4]]}')"
   ]
  },
  {
   "cell_type": "markdown",
   "metadata": {},
   "source": [
    "____"
   ]
  },
  {
   "cell_type": "markdown",
   "metadata": {},
   "source": [
    "### 7.14 Horizontal and Vertical Stacking\n",
    "Create the two-dimensional arrays\n",
    "```python\n",
    "array1 = np.array([[0, 1], [2, 3]])\n",
    "array2 = np.array([[4, 5], [6, 7]])\n",
    "```\n",
    "<ol type=\"a\">\n",
    "    <li>Use vertical stacking to create the 4-by-2 array named array3 with array1 stacked on top of array2.</li>\n",
    "    <li>Use horizontal stacking to create the 2-by-4 array named array4 with array2 to the right of array1.</li>\n",
    "    <li>Use vertical stacking with two copies of array4 to create a 4-by-4 array5.</li>\n",
    "    <li>Use horizontal stacking with two copies of array3 to create a 4-by-4 array6.</li>\n",
    "</ol>"
   ]
  },
  {
   "cell_type": "code",
   "execution_count": 27,
   "metadata": {},
   "outputs": [
    {
     "name": "stdout",
     "output_type": "stream",
     "text": [
      "array1:\n",
      "[[0 1]\n",
      " [2 3]]\n",
      "\n",
      "array2:\n",
      "[[4 5]\n",
      " [6 7]]\n"
     ]
    }
   ],
   "source": [
    "# Creating array1 and array2\n",
    "array1 = np.array([[0, 1], [2, 3]])\n",
    "array2 = np.array([[4, 5], [6, 7]])\n",
    "\n",
    "# Printing the arrays\n",
    "print(f'array1:')\n",
    "print(f'{array1}')\n",
    "print(f'\\narray2:')\n",
    "print(f'{array2}')"
   ]
  },
  {
   "cell_type": "code",
   "execution_count": 28,
   "metadata": {},
   "outputs": [
    {
     "name": "stdout",
     "output_type": "stream",
     "text": [
      "[[0 1]\n",
      " [2 3]\n",
      " [4 5]\n",
      " [6 7]]\n"
     ]
    }
   ],
   "source": [
    "# Solution to part 1)\n",
    "# Q. Use vertical stacking to create the 4-by-2 array named array3 with array1 stacked on top of array2\n",
    "array3 = np.vstack((array1,array2))\n",
    "print(f'{array3}')"
   ]
  },
  {
   "cell_type": "code",
   "execution_count": 29,
   "metadata": {},
   "outputs": [
    {
     "name": "stdout",
     "output_type": "stream",
     "text": [
      "[[0 1 4 5]\n",
      " [2 3 6 7]]\n"
     ]
    }
   ],
   "source": [
    "# Solution to part 2)\n",
    "# Q. Use horizontal stacking to create the 2-by-4 array named array4 with array2 to the right of array1\n",
    "array4 = np.hstack((array1,array2))\n",
    "print(f'{array4}')"
   ]
  },
  {
   "cell_type": "code",
   "execution_count": 30,
   "metadata": {},
   "outputs": [
    {
     "name": "stdout",
     "output_type": "stream",
     "text": [
      "[[0 1 4 5]\n",
      " [2 3 6 7]\n",
      " [0 1 4 5]\n",
      " [2 3 6 7]]\n"
     ]
    }
   ],
   "source": [
    "# Solution to part 3)\n",
    "# Q. Use vertical stacking with two copies of array4 to create a 4-by-4 array5\n",
    "array5 = np.vstack((array4,array4))\n",
    "print(f'{array5}')"
   ]
  },
  {
   "cell_type": "code",
   "execution_count": 31,
   "metadata": {},
   "outputs": [
    {
     "name": "stdout",
     "output_type": "stream",
     "text": [
      "[[0 1 0 1]\n",
      " [2 3 2 3]\n",
      " [4 5 4 5]\n",
      " [6 7 6 7]]\n"
     ]
    }
   ],
   "source": [
    "# Solution to part 4)\n",
    "# Q. Use horizontal stacking with two copies of array3 to create a 4-by-4 array6\n",
    "array6 = np.hstack((array3,array3))\n",
    "print(f'{array6}')"
   ]
  },
  {
   "cell_type": "markdown",
   "metadata": {},
   "source": [
    "____"
   ]
  }
 ],
 "metadata": {
  "kernelspec": {
   "display_name": "Python 3",
   "language": "python",
   "name": "python3"
  },
  "language_info": {
   "codemirror_mode": {
    "name": "ipython",
    "version": 3
   },
   "file_extension": ".py",
   "mimetype": "text/x-python",
   "name": "python",
   "nbconvert_exporter": "python",
   "pygments_lexer": "ipython3",
   "version": "3.8.8"
  }
 },
 "nbformat": 4,
 "nbformat_minor": 4
}
