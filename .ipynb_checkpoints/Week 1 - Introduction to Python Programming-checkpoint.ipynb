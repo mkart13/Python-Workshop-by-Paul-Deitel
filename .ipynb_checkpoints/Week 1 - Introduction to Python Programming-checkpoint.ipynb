{
 "cells": [
  {
   "cell_type": "markdown",
   "metadata": {},
   "source": [
    "## Week 1 Assignment\n",
    "<br><b>Student Name:</b> Karthik Maddipoti\n",
    "<br><b>Student ID:</b> 005864907\n",
    "<br><b>Course:</b> UCLA MSBA Python Workshop 2021\n",
    "<br><b>Instructor:</b> Paul Deitel"
   ]
  },
  {
   "cell_type": "markdown",
   "metadata": {},
   "source": [
    "### Self Assessment\n",
    "***1. I have attempted all the exercises and was able to finish them without any issues***\n",
    "\n",
    "***2. I have attempted the optional exercise and was able to complete it without any issues***"
   ]
  },
  {
   "cell_type": "markdown",
   "metadata": {},
   "source": [
    "____________"
   ]
  },
  {
   "cell_type": "markdown",
   "metadata": {},
   "source": [
    "### 2.1 (What does this code do?) Create the variables x = 2 and y = 3, then determine what each of the following statements displays:"
   ]
  },
  {
   "cell_type": "code",
   "execution_count": 1,
   "metadata": {},
   "outputs": [],
   "source": [
    "### Assigning values to x and y\n",
    "\n",
    "x = 2\n",
    "y = 3"
   ]
  },
  {
   "cell_type": "markdown",
   "metadata": {},
   "source": [
    "#### a) print('x =', x)"
   ]
  },
  {
   "cell_type": "markdown",
   "metadata": {},
   "source": [
    "**What does this code do?**\n",
    "<p>This code snippet first prints the string 'x=' and then it prints the value assigned to x </p>"
   ]
  },
  {
   "cell_type": "code",
   "execution_count": 2,
   "metadata": {},
   "outputs": [
    {
     "name": "stdout",
     "output_type": "stream",
     "text": [
      "x = 2\n"
     ]
    }
   ],
   "source": [
    "print('x =', x)"
   ]
  },
  {
   "cell_type": "markdown",
   "metadata": {},
   "source": [
    "#### b) print('Value of', x, '+', x, 'is', (x + x))"
   ]
  },
  {
   "cell_type": "markdown",
   "metadata": {},
   "source": [
    "**What does this code do?**\n",
    "<p>This code snippet first prints the statement 'Value of' and then it prints the value assigned to x followed by the plus symbol and once again the value assigned to x. Finally the expression \"x + x\" is evaluated and printed.</p>"
   ]
  },
  {
   "cell_type": "code",
   "execution_count": 3,
   "metadata": {},
   "outputs": [
    {
     "name": "stdout",
     "output_type": "stream",
     "text": [
      "Value of 2 + 2 is 4\n"
     ]
    }
   ],
   "source": [
    "print('Value of', x, '+', x, 'is', (x + x))"
   ]
  },
  {
   "cell_type": "markdown",
   "metadata": {},
   "source": [
    "#### c) print('x =')"
   ]
  },
  {
   "cell_type": "markdown",
   "metadata": {},
   "source": [
    "**What does this code do?**\n",
    "<p>This code snippet just prints the statement within single quotes </p>"
   ]
  },
  {
   "cell_type": "code",
   "execution_count": 4,
   "metadata": {},
   "outputs": [
    {
     "name": "stdout",
     "output_type": "stream",
     "text": [
      "x =\n"
     ]
    }
   ],
   "source": [
    "print('x =')"
   ]
  },
  {
   "cell_type": "markdown",
   "metadata": {},
   "source": [
    "#### d) print((x + y), '=', (y + x))"
   ]
  },
  {
   "cell_type": "markdown",
   "metadata": {},
   "source": [
    "**What does this code do?**\n",
    "<p>This code snippet evaluates the expressions within the paranthesis and prints them on either side of the equal to sign </p>"
   ]
  },
  {
   "cell_type": "code",
   "execution_count": 5,
   "metadata": {},
   "outputs": [
    {
     "name": "stdout",
     "output_type": "stream",
     "text": [
      "5 = 5\n"
     ]
    }
   ],
   "source": [
    "print((x + y), '=', (y + x))"
   ]
  },
  {
   "cell_type": "markdown",
   "metadata": {},
   "source": [
    "____________"
   ]
  },
  {
   "cell_type": "markdown",
   "metadata": {},
   "source": [
    "### 2.2 What’s Wrong with This Code? \n",
    "<p>The following code should read an integer into the variable rating: </p>\n",
    "\n",
    "*rating = input('Enter an integer rating between 1 and 10')*"
   ]
  },
  {
   "cell_type": "markdown",
   "metadata": {},
   "source": [
    "**What’s Wrong with This Code?**\n",
    "This code snippet will store the user input as a string eventhough the user gives a numeric input"
   ]
  },
  {
   "cell_type": "code",
   "execution_count": 6,
   "metadata": {},
   "outputs": [
    {
     "name": "stdout",
     "output_type": "stream",
     "text": [
      "Enter an integer rating between 1 and 10: 7\n"
     ]
    }
   ],
   "source": [
    "rating = input('Enter an integer rating between 1 and 10: ')"
   ]
  },
  {
   "cell_type": "code",
   "execution_count": 7,
   "metadata": {},
   "outputs": [
    {
     "name": "stdout",
     "output_type": "stream",
     "text": [
      "Data type of the variable 'rating' : <class 'str'>\n"
     ]
    }
   ],
   "source": [
    "print(\"Data type of the variable 'rating' :\", type(rating))"
   ]
  },
  {
   "cell_type": "markdown",
   "metadata": {},
   "source": [
    "_____"
   ]
  },
  {
   "cell_type": "markdown",
   "metadata": {},
   "source": [
    "### 2.10 Arithmetic, Smallest and Largest\n",
    "<p>Write a script that inputs three integers from the user. Display the sum, average, product, smallest and largest of the numbers. Note that each of these is a reduction in functional-style programming.</p>\n",
    "<p><b>LabAssist:</b> The input function returns a string, so you must convert the user inputs to integers.</p>"
   ]
  },
  {
   "cell_type": "code",
   "execution_count": 8,
   "metadata": {},
   "outputs": [
    {
     "name": "stdout",
     "output_type": "stream",
     "text": [
      "Enter the first number: 3\n",
      "Enter the second number: 7\n",
      "Enter the third number: 14\n"
     ]
    }
   ],
   "source": [
    "x = int(input(\"Enter the first number: \"))\n",
    "y = int(input(\"Enter the second number: \"))\n",
    "z = int(input(\"Enter the third number: \"))\n",
    "number_list = [x,y,z]"
   ]
  },
  {
   "cell_type": "code",
   "execution_count": 10,
   "metadata": {},
   "outputs": [
    {
     "name": "stdout",
     "output_type": "stream",
     "text": [
      "The sum of the three integers is:  24\n",
      "The average of the three integers is:  8.0\n",
      "The product of the three integers is:  294\n",
      "The smallest of the three integers is:  3\n",
      "The largest of the three integers is:  14\n"
     ]
    }
   ],
   "source": [
    "print(\"The sum of the three integers is: \", sum(number_list))\n",
    "print(\"The average of the three integers is: \", sum(number_list)/len(number_list))\n",
    "print(\"The product of the three integers is: \", x*y*z)\n",
    "print(\"The smallest of the three integers is: \", min(number_list))\n",
    "print(\"The largest of the three integers is: \", max(number_list))"
   ]
  },
  {
   "cell_type": "markdown",
   "metadata": {},
   "source": [
    "_____"
   ]
  },
  {
   "cell_type": "markdown",
   "metadata": {},
   "source": [
    "### 2.12  (*7% Investment Return*)\n",
    "<p>Some investment advisors say that it’s reasonable to expect a 7% return over the long term in the stock market. Assuming that you begin with $1000 and leave your money invested, calculate and display how much money you’ll have after 10, 20 and 30 years. Use the following formula for determining these amounts:</p>\n",
    "\n",
    "*a = p(1 + r)n*\n",
    "\n",
    "<br>where</br>\n",
    "<br>p is the original amount invested (i.e., the principal of $1000),\n",
    "<br>r is the annual rate of return (7%),\n",
    "<br>n is the number of years (10, 20 or 30) and\n",
    "<br>a is the amount on deposit at the end of the nth year."
   ]
  },
  {
   "cell_type": "code",
   "execution_count": 11,
   "metadata": {},
   "outputs": [
    {
     "name": "stdout",
     "output_type": "stream",
     "text": [
      "Number of years money is invested: 10\n",
      "Total amount after 10 years of investing:  1967.1513572895665\n"
     ]
    }
   ],
   "source": [
    "### Assuming the the principal amount to be $1,000 and the annual return rate to be 7%\n",
    "p = 1000\n",
    "r = 0.07\n",
    "\n",
    "### Accepting user input for number of years money is invested\n",
    "\n",
    "n = int(input(\"Number of years money is invested: \"))\n",
    "\n",
    "### Calculating the final amount\n",
    "a = p * ((1 + r)**n)\n",
    "\n",
    "print(\"Total amount after\",n, \"years of investing: \",a)"
   ]
  },
  {
   "cell_type": "code",
   "execution_count": 12,
   "metadata": {},
   "outputs": [
    {
     "name": "stdout",
     "output_type": "stream",
     "text": [
      "Number of years money is invested: 20\n",
      "Total amount after 20 years of investing:  3869.6844624861833\n"
     ]
    }
   ],
   "source": [
    "### Assuming the the principal amount to be $1,000 and the annual return rate to be 7%\n",
    "p = 1000\n",
    "r = 0.07\n",
    "\n",
    "### Accepting user input for number of years money is invested\n",
    "\n",
    "n = int(input(\"Number of years money is invested: \"))\n",
    "\n",
    "### Calculating the final amount\n",
    "a = p * ((1 + r)**n)\n",
    "\n",
    "print(\"Total amount after\",n, \"years of investing: \",a)"
   ]
  },
  {
   "cell_type": "code",
   "execution_count": 13,
   "metadata": {},
   "outputs": [
    {
     "name": "stdout",
     "output_type": "stream",
     "text": [
      "Number of years money is invested: 30\n",
      "Total amount after 30 years of investing:  7612.255042662042\n"
     ]
    }
   ],
   "source": [
    "### Assuming the the principal amount to be $1,000 and the annual return rate to be 7%\n",
    "p = 1000\n",
    "r = 0.07\n",
    "\n",
    "### Accepting user input for number of years money is invested\n",
    "\n",
    "n = int(input(\"Number of years money is invested: \"))\n",
    "\n",
    "### Calculating the final amount\n",
    "a = p * ((1 + r)**n)\n",
    "\n",
    "print(\"Total amount after\",n, \"years of investing: \",a)"
   ]
  },
  {
   "cell_type": "markdown",
   "metadata": {},
   "source": [
    "_____"
   ]
  },
  {
   "cell_type": "markdown",
   "metadata": {},
   "source": [
    "### 2.13 How Big Can Python Integers Be?\n",
    "<p>Use the exponentiation operator ** with large and very large exponents to produce some huge integers and assign those to the variable number to see if Python accepts them. Did you find any integer value that Python won’t accept?</p>\n",
    "\n",
    "<p><b>LabAssist:</b> Unlike other languages, Python does not restrict the range of values for an integer, so use the ** operator to raise 10 to the powers 10, 100 and 1000 to prove this.</p>"
   ]
  },
  {
   "cell_type": "code",
   "execution_count": 14,
   "metadata": {},
   "outputs": [
    {
     "name": "stdout",
     "output_type": "stream",
     "text": [
      "The value of 10 to the power of 10: \n",
      " 10000000000\n",
      "\n",
      "The value of 10 to the power of 100: \n",
      " 10000000000000000000000000000000000000000000000000000000000000000000000000000000000000000000000000000\n",
      "\n",
      "The value of 10 to the power of 1000: \n",
      " 10000000000000000000000000000000000000000000000000000000000000000000000000000000000000000000000000000000000000000000000000000000000000000000000000000000000000000000000000000000000000000000000000000000000000000000000000000000000000000000000000000000000000000000000000000000000000000000000000000000000000000000000000000000000000000000000000000000000000000000000000000000000000000000000000000000000000000000000000000000000000000000000000000000000000000000000000000000000000000000000000000000000000000000000000000000000000000000000000000000000000000000000000000000000000000000000000000000000000000000000000000000000000000000000000000000000000000000000000000000000000000000000000000000000000000000000000000000000000000000000000000000000000000000000000000000000000000000000000000000000000000000000000000000000000000000000000000000000000000000000000000000000000000000000000000000000000000000000000000000000000000000000000000000000000000000000000000000000000000000000000000000000000000000000000000000000000000\n"
     ]
    }
   ],
   "source": [
    "## Starting with the integer 10\n",
    "number_1 = 10\n",
    "\n",
    "print(\"The value of 10 to the power of 10: \\n\", number_1**10)\n",
    "print(\"\\nThe value of 10 to the power of 100: \\n\", number_1**100)\n",
    "print(\"\\nThe value of 10 to the power of 1000: \\n\", number_1**1000)"
   ]
  },
  {
   "cell_type": "markdown",
   "metadata": {},
   "source": [
    "_____"
   ]
  },
  {
   "cell_type": "markdown",
   "metadata": {},
   "source": [
    "### [OPTIONAL] 2.11 Separating the Digits in an Integer?\n",
    "<p>Write a script that inputs a five-digit integer from the user. Separate the number into its individual digits. Print them separated by three spaces each. For example, if the user types in the number 42339, the script should print\n",
    "<br><br>4   2   3   3   9\n",
    "<br><br>Assume that the user enters the correct number of digits. Use both the floor division and remainder operations to “pick off ” each digit.</p>\n",
    "\n",
    "<p><b>LabAssist:</b>  First, convert the user input to an integer. Use both the floor division and remainder operations to “pick off” each digit.</p>"
   ]
  },
  {
   "cell_type": "code",
   "execution_count": 15,
   "metadata": {},
   "outputs": [
    {
     "name": "stdout",
     "output_type": "stream",
     "text": [
      "Enter a 5 digit integer: 83651\n",
      "8    3    6    5    1\n"
     ]
    }
   ],
   "source": [
    "x = int(input(\"Enter a 5 digit integer: \"))\n",
    "\n",
    "digit_1 = x//10000\n",
    "digit_2 = (x%10000)//1000\n",
    "digit_3 = (x%1000)//100\n",
    "digit_4 = (x%100)//10\n",
    "digit_5 = (x%10)\n",
    "\n",
    "print(digit_1,\"  \",\n",
    "     digit_2,\"  \",\n",
    "     digit_3,\"  \",\n",
    "     digit_4,\"  \",\n",
    "     digit_5)"
   ]
  },
  {
   "cell_type": "code",
   "execution_count": null,
   "metadata": {},
   "outputs": [],
   "source": []
  }
 ],
 "metadata": {
  "kernelspec": {
   "display_name": "Python 3",
   "language": "python",
   "name": "python3"
  },
  "language_info": {
   "codemirror_mode": {
    "name": "ipython",
    "version": 3
   },
   "file_extension": ".py",
   "mimetype": "text/x-python",
   "name": "python",
   "nbconvert_exporter": "python",
   "pygments_lexer": "ipython3",
   "version": "3.7.9"
  }
 },
 "nbformat": 4,
 "nbformat_minor": 4
}
