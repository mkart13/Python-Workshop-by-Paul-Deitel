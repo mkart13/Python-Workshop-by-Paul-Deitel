{
 "cells": [
  {
   "cell_type": "markdown",
   "metadata": {},
   "source": [
    "# Week 2 Assignment\n",
    "<br><b>Student Name:</b> Karthik Maddipoti\n",
    "<br><b>Student ID:</b> 005864907\n",
    "<br><b>Course:</b> UCLA MSBA Python Workshop 2021\n",
    "<br><b>Instructor:</b> Paul Deitel"
   ]
  },
  {
   "cell_type": "markdown",
   "metadata": {},
   "source": [
    "## Self Assessment\n",
    "* I have completed all the required exercies for Week 2. I was able to complete them without any issues\n",
    "* I have incorporated the feedback I recieved in my last week's assignment in this week's submission"
   ]
  },
  {
   "cell_type": "markdown",
   "metadata": {},
   "source": [
    "____________"
   ]
  },
  {
   "cell_type": "markdown",
   "metadata": {},
   "source": [
    "## 3.10 (7% Investment Return) \n",
    "Reimplement Exercise 2.12 to use a loop that calculates and displays the amount of money you’ll have each year at the ends of years 1 through 30."
   ]
  },
  {
   "cell_type": "markdown",
   "metadata": {},
   "source": [
    "<p><b>For reference</b>: <b>2.12</b> Some investment advisors say that it’s reasonable to expect a 7% return over the long term in the stock market. Assuming that you begin with $1000 and leave your money invested, calculate and display how much money you’ll have after 10, 20 and 30 years. Use the following formula for determining these amounts:</p>\n",
    "\n",
    "*a = p.(1 + r)<sup>n</sup>*\n",
    "\n",
    "<br>where</br>\n",
    "<br>p is the original amount invested (i.e., the principal of $1000),\n",
    "<br>r is the annual rate of return (7%),\n",
    "<br>n is the number of years (10, 20 or 30) and\n",
    "<br>a is the amount on deposit at the end of the nth year."
   ]
  },
  {
   "cell_type": "code",
   "execution_count": 34,
   "metadata": {},
   "outputs": [
    {
     "name": "stdout",
     "output_type": "stream",
     "text": [
      "Total amount after 1 years of investing is : $ 1070.0\n",
      "Total amount after 2 years of investing is : $ 1144.9\n",
      "Total amount after 3 years of investing is : $ 1225.0430000000001\n",
      "Total amount after 4 years of investing is : $ 1310.7960100000003\n",
      "Total amount after 5 years of investing is : $ 1402.5517307000005\n",
      "Total amount after 6 years of investing is : $ 1500.7303518490005\n",
      "Total amount after 7 years of investing is : $ 1605.7814764784307\n",
      "Total amount after 8 years of investing is : $ 1718.186179831921\n",
      "Total amount after 9 years of investing is : $ 1838.4592124201556\n",
      "Total amount after 10 years of investing is : $ 1967.1513572895665\n",
      "Total amount after 11 years of investing is : $ 2104.8519522998363\n",
      "Total amount after 12 years of investing is : $ 2252.191588960825\n",
      "Total amount after 13 years of investing is : $ 2409.845000188083\n",
      "Total amount after 14 years of investing is : $ 2578.534150201249\n",
      "Total amount after 15 years of investing is : $ 2759.031540715336\n",
      "Total amount after 16 years of investing is : $ 2952.16374856541\n",
      "Total amount after 17 years of investing is : $ 3158.8152109649886\n",
      "Total amount after 18 years of investing is : $ 3379.932275732538\n",
      "Total amount after 19 years of investing is : $ 3616.5275350338165\n",
      "Total amount after 20 years of investing is : $ 3869.6844624861833\n",
      "Total amount after 21 years of investing is : $ 4140.562374860217\n",
      "Total amount after 22 years of investing is : $ 4430.401741100432\n",
      "Total amount after 23 years of investing is : $ 4740.5298629774625\n",
      "Total amount after 24 years of investing is : $ 5072.366953385886\n",
      "Total amount after 25 years of investing is : $ 5427.432640122897\n",
      "Total amount after 26 years of investing is : $ 5807.352924931501\n",
      "Total amount after 27 years of investing is : $ 6213.867629676706\n",
      "Total amount after 28 years of investing is : $ 6648.838363754076\n",
      "Total amount after 29 years of investing is : $ 7114.257049216862\n",
      "Total amount after 30 years of investing is : $ 7612.255042662042\n"
     ]
    }
   ],
   "source": [
    "# Defining a list of time periods from 1 to 30\n",
    "time_periods = list(range(1,31,1))\n",
    "\n",
    "# Assuming the the principal amount to be $1,000 and the annual return rate to be 7%\n",
    "principal = 1000\n",
    "annual_return_rate = 0.07\n",
    "\n",
    "for time_period in time_periods:\n",
    "    # Calculating the final amount\n",
    "    final_amount = principal * ((1 + annual_return_rate) ** time_period)\n",
    "    print(\"Total amount after\", time_period, \"years of investing is : $\", final_amount)"
   ]
  },
  {
   "cell_type": "markdown",
   "metadata": {},
   "source": [
    "____________"
   ]
  },
  {
   "cell_type": "markdown",
   "metadata": {},
   "source": [
    "## 3.13 (Factorials) \n",
    "Factorial calculations are common in probability. The factorial of a nonnegative integer n is written n! (pronounced “n factorial”) and is defined as follows:\n",
    "\n",
    "```n! = n · (n - 1) · (n - 2) · … · 1```\n",
    "\n",
    "for values of n greater than or equal to 1, with 0! defined to be 1. So,\n",
    "\n",
    "```5! = 5 · 4 · 3 · 2 · 1```\n",
    "\n",
    "which is 120. Factorials increase in size very rapidly. Write a script that inputs a nonnegative integer and computes and displays its factorial. Try your script on the integers 10, 20, 30 and even larger values. Did you find any integer input for which Python could not produce an integer factorial value?"
   ]
  },
  {
   "cell_type": "code",
   "execution_count": 33,
   "metadata": {},
   "outputs": [
    {
     "name": "stdout",
     "output_type": "stream",
     "text": [
      "Enter a non-negative integer input: 10\n",
      "The factorial of 10 is: 3628800\n"
     ]
    }
   ],
   "source": [
    "# Take a non-negative integer input\n",
    "number = int(input('Enter a non-negative integer input: '))\n",
    "\n",
    "# Calculate and print factorial. Testing the code for integer value 10\n",
    "factorial = number\n",
    "for i in range(1, number):\n",
    "    factorial = factorial * (number - i)\n",
    "\n",
    "# The above loop fails when the user inputs the value 0. Hence handling this exception after the for loop\n",
    "if number == 0:\n",
    "    factorial = 1\n",
    "    \n",
    "# Printing the factorial of the number inputted by the user\n",
    "print('The factorial of', number, 'is:', factorial)"
   ]
  },
  {
   "cell_type": "markdown",
   "metadata": {},
   "source": [
    "**Note**: I am not sure if the above method is the best way to handle the exception when a user enters the value 0"
   ]
  },
  {
   "cell_type": "code",
   "execution_count": 31,
   "metadata": {},
   "outputs": [
    {
     "name": "stdout",
     "output_type": "stream",
     "text": [
      "Enter a non-negative integer input: 20\n",
      "The factorial of 20 is: 2432902008176640000\n"
     ]
    }
   ],
   "source": [
    "# Take a non-negative integer input\n",
    "number = int(input('Enter a non-negative integer input: '))\n",
    "\n",
    "# Calculate and print factorial. Testing the code for integer value 20\n",
    "factorial = number\n",
    "\n",
    "for i in range(1, number):\n",
    "    factorial = factorial * (number - i)\n",
    "\n",
    "# The above loop fails when the user inputs the value 0. Hence handling this exception after the for loop\n",
    "if number == 0:\n",
    "    factorial = 1\n",
    "    \n",
    "# Printing the factorial of the number inputted by the user\n",
    "print('The factorial of', number, 'is:', factorial)"
   ]
  },
  {
   "cell_type": "code",
   "execution_count": 32,
   "metadata": {},
   "outputs": [
    {
     "name": "stdout",
     "output_type": "stream",
     "text": [
      "Enter a non-negative integer input: 30\n",
      "The factorial of 30 is: 265252859812191058636308480000000\n"
     ]
    }
   ],
   "source": [
    "# Take a non-negative integer input\n",
    "number = int(input('Enter a non-negative integer input: '))\n",
    "\n",
    "# Calculate and print factorial. Testing the code for integer value 30\n",
    "factorial = number\n",
    "\n",
    "for i in range(1, number):\n",
    "    factorial = factorial * (number - i)\n",
    "\n",
    "# The above loop fails when the user inputs the value 0. Hence handling this exception after the for loop\n",
    "if number == 0:\n",
    "    factorial = 1\n",
    "    \n",
    "# Printing the factorial of the number inputted by the user\n",
    "print('The factorial of', number, 'is:', factorial)"
   ]
  },
  {
   "cell_type": "markdown",
   "metadata": {},
   "source": [
    "**Did you find any integer input for which Python could not produce an integer factorial value?**\n",
    "\n",
    "For large integer input, python was not able to calculate the factorial. This could be becuase of two reasons\n",
    "* Running a loop for large integer values is an inefficient way to write programs. It is extremely slow as the script has to individual evaluate each integer in the loop\n",
    "* Factorials of integers increase in value exponentially. Hence their evaluation requires more memory and there will be limit beyond which the system runs out of memory"
   ]
  },
  {
   "cell_type": "markdown",
   "metadata": {},
   "source": [
    "_______"
   ]
  },
  {
   "cell_type": "markdown",
   "metadata": {},
   "source": [
    "## 3.31 (Intro to Data Science: Categorical Data) \n",
    "Mean, median and mode work well with numerical values. You can use them in calculations and arrange them in meaningful order. Categorical values are descriptive names like Boxer, Poodle, Collie, Beagle, Bulldog and Chihuahua. Normally, you don’t use these in calculations nor associate an order with them. Which if any of the descriptive statistics are appropriate for categorical data?"
   ]
  },
  {
   "cell_type": "markdown",
   "metadata": {},
   "source": [
    "**Solution:**\n",
    "\n",
    "**Source**: I refered to the following article to learn different descriptive statistics for categorical data (https://uc-r.github.io/descriptives_categorical)"
   ]
  },
  {
   "cell_type": "markdown",
   "metadata": {},
   "source": [
    "For categorical data, the following descriptive measures are meaningful:\n",
    "* **Frequency**:By measuring the frequency of occurence of each category in a column for a given tabular dataset, we can infer the distribution of each category. We can identify how distributed each categorical value is. Are there few categories that dominate the dataset vs. the other categorical values?\n",
    "\n",
    "\n",
    "* **Proportions**: Similar to the above measure, we can convert the frequencies of categorical values into proportions to improve our understanding of data. Different datasets have different number of rows. Hence, the counts of categorical values may not always be indicative of their distribution. Hence, converting frequencies to proportions can help us infer the relative distribution of each categorical value against the rest.\n",
    "\n",
    "\n",
    "* **Cross-table Frequency or Proportions**: We can measure the frequency and/ or proportion of categorical values across more than one categorical column. Such descriptive statistics help us club multiple categorical columns and understand their distribution.\n",
    "\n",
    "\n",
    "We can also present the above descriptive statistics in a visual format using bar graphs, pie charts, etc."
   ]
  },
  {
   "cell_type": "markdown",
   "metadata": {},
   "source": [
    "____"
   ]
  },
  {
   "cell_type": "markdown",
   "metadata": {},
   "source": [
    "## 3.17 (Nested Loops) \n",
    "Write a script that displays the following triangle patterns separately, one below the other. Separate each pattern from the next by one blank line. Use for loops to generate the patterns. Display all asterisks (\\*) with a single statement of the form \n",
    "\n",
    "```print('*', end='')``` \n",
    "\n",
    "which causes the asterisks to display side by side. \n",
    "\n",
    "*[Hint: For the last two patterns, begin each line with zero or more space characters.]*"
   ]
  },
  {
   "cell_type": "markdown",
   "metadata": {},
   "source": [
    "### Part (a)"
   ]
  },
  {
   "cell_type": "code",
   "execution_count": 60,
   "metadata": {},
   "outputs": [
    {
     "name": "stdout",
     "output_type": "stream",
     "text": [
      "Enter the number of lines of pattern:10\n",
      "\n",
      "*\n",
      "**\n",
      "***\n",
      "****\n",
      "*****\n",
      "******\n",
      "*******\n",
      "********\n",
      "*********\n",
      "**********\n"
     ]
    }
   ],
   "source": [
    "# Accept the number of lines of pattern to print\n",
    "line_count = int(input(\"Enter the number of lines of pattern:\"))\n",
    "\n",
    "# Printing the pattern using nested for loop\n",
    "for i in range(line_count + 1):\n",
    "    for j in range(i):\n",
    "        print('*', end = '')\n",
    "    print()"
   ]
  },
  {
   "cell_type": "markdown",
   "metadata": {},
   "source": [
    "### Part (b)"
   ]
  },
  {
   "cell_type": "code",
   "execution_count": 61,
   "metadata": {},
   "outputs": [
    {
     "name": "stdout",
     "output_type": "stream",
     "text": [
      "Enter the number of lines of pattern:10\n",
      "**********\n",
      "*********\n",
      "********\n",
      "*******\n",
      "******\n",
      "*****\n",
      "****\n",
      "***\n",
      "**\n",
      "*\n",
      "\n"
     ]
    }
   ],
   "source": [
    "# Accept the number of lines of pattern to print\n",
    "line_count = int(input(\"Enter the number of lines of pattern:\"))\n",
    "\n",
    "# Printing the pattern using nested for loop\n",
    "for i in range(line_count + 1):\n",
    "    for j in range(line_count - i):\n",
    "        print('*', end = '')\n",
    "    print()"
   ]
  },
  {
   "cell_type": "markdown",
   "metadata": {},
   "source": [
    "### Part (c)"
   ]
  },
  {
   "cell_type": "code",
   "execution_count": 62,
   "metadata": {},
   "outputs": [
    {
     "name": "stdout",
     "output_type": "stream",
     "text": [
      "Enter the number of lines of pattern:10\n",
      " **********\n",
      "  *********\n",
      "   ********\n",
      "    *******\n",
      "     ******\n",
      "      *****\n",
      "       ****\n",
      "        ***\n",
      "         **\n",
      "          *\n",
      "           \n"
     ]
    }
   ],
   "source": [
    "# Accept the number of lines of pattern to print\n",
    "line_count = int(input(\"Enter the number of lines of pattern:\"))\n",
    "\n",
    "# Printing the pattern using nested for loop\n",
    "for i in range(line_count + 1):\n",
    "    for j in range(line_count + 1):\n",
    "        if j > i:\n",
    "            print('*', end = '')\n",
    "        else:\n",
    "            print(' ', end = '')\n",
    "    print()"
   ]
  },
  {
   "cell_type": "markdown",
   "metadata": {},
   "source": [
    "### Part (d)"
   ]
  },
  {
   "cell_type": "code",
   "execution_count": 68,
   "metadata": {},
   "outputs": [
    {
     "name": "stdout",
     "output_type": "stream",
     "text": [
      "Enter the number of lines of pattern:10\n",
      "          \n",
      "         *\n",
      "        **\n",
      "       ***\n",
      "      ****\n",
      "     *****\n",
      "    ******\n",
      "   *******\n",
      "  ********\n",
      " *********\n",
      "**********\n"
     ]
    }
   ],
   "source": [
    "# Accept the number of lines of pattern to print\n",
    "line_count = int(input(\"Enter the number of lines of pattern:\"))\n",
    "\n",
    "# Printing the pattern using nested for loop\n",
    "for i in range(line_count + 1):\n",
    "    for j in range(line_count, 0, -1):\n",
    "        if j > i:\n",
    "            print(' ', end = '')\n",
    "        else:\n",
    "            print('*', end = '')\n",
    "    print()"
   ]
  },
  {
   "cell_type": "markdown",
   "metadata": {},
   "source": [
    "_____"
   ]
  },
  {
   "cell_type": "markdown",
   "metadata": {},
   "source": [
    "## 3.26 (Research: Anscombe’s Quartet)\n",
    "In this book’s data science case studies, we’ll emphasize the importance of “getting to know your data.” The basic descriptive statistics that you’ve seen in this chapter’s and the previous chapter’s Intro to Data Science sections certainly help you know more about your data. One caution, though, is that different datasets can have identical or nearly identical descriptive statistics and yet the data can be significantly different. For an example of this phenomenon, research Anscombe’s Quartet. You should find four datasets and the associated visualizations. It’s the visualizations that convince you the datasets are quite different. In an exercise in a later chapter, you’ll create these visualizations."
   ]
  },
  {
   "cell_type": "markdown",
   "metadata": {},
   "source": [
    "**Note**: I have read through the wikipedia article. My key takeaways are:\n",
    "* Descriptive statistics does not always convey the entire story behind a dataset. It should always be combined with graphical visualizations to identify trends in the data, outliers, etc.\n",
    "* Outlier treatment is critical when handling datasets. Identifying outliers and then making a decision to include them or discard them can change the final outcome of the analysis"
   ]
  },
  {
   "cell_type": "markdown",
   "metadata": {},
   "source": [
    "_________"
   ]
  }
 ],
 "metadata": {
  "kernelspec": {
   "display_name": "Python 3",
   "language": "python",
   "name": "python3"
  },
  "language_info": {
   "codemirror_mode": {
    "name": "ipython",
    "version": 3
   },
   "file_extension": ".py",
   "mimetype": "text/x-python",
   "name": "python",
   "nbconvert_exporter": "python",
   "pygments_lexer": "ipython3",
   "version": "3.7.9"
  }
 },
 "nbformat": 4,
 "nbformat_minor": 4
}
